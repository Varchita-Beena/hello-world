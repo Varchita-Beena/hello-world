{
  "nbformat": 4,
  "nbformat_minor": 0,
  "metadata": {
    "colab": {
      "name": "BERT Embeddings with TensorFlow 2.0",
      "provenance": [],
      "collapsed_sections": [],
      "include_colab_link": true
    },
    "kernelspec": {
      "name": "python3",
      "display_name": "Python 3"
    }
  },
  "cells": [
    {
      "cell_type": "markdown",
      "metadata": {
        "id": "view-in-github",
        "colab_type": "text"
      },
      "source": [
        "<a href=\"https://colab.research.google.com/github/Varchita-Lalwani/hello-world/blob/master/BERT_Embeddings_with_TensorFlow_2_0.ipynb\" target=\"_parent\"><img src=\"https://colab.research.google.com/assets/colab-badge.svg\" alt=\"Open In Colab\"/></a>"
      ]
    },
    {
      "cell_type": "markdown",
      "metadata": {
        "id": "2IjSWx7-O8yY",
        "colab_type": "text"
      },
      "source": [
        "# BERT Embeddings with TensorFlow 2.0\n",
        "With the new release of TensorFlow, this Notebook aims to show a simple use of the BERT model.\n",
        "- See BERT on paper: https://arxiv.org/pdf/1810.04805.pdf\n",
        "- See BERT on GitHub: https://github.com/google-research/bert\n",
        "- See BERT on TensorHub: https://tfhub.dev/tensorflow/bert_en_uncased_L-12_H-768_A-12/1\n",
        "- See 'old' use of BERT for comparison: https://colab.research.google.com/github/google-research/bert/blob/master/predicting_movie_reviews_with_bert_on_tf_hub.ipynb"
      ]
    },
    {
      "cell_type": "markdown",
      "metadata": {
        "id": "SQktrOSAPq_n",
        "colab_type": "text"
      },
      "source": [
        "## Update TF\n",
        "We need Tensorflow 2.0 and TensorHub 0.7 for this Colab"
      ]
    },
    {
      "cell_type": "code",
      "metadata": {
        "id": "_Iwew0KP8vRM",
        "colab_type": "code",
        "colab": {}
      },
      "source": [
        "!pip install tensorflow==2.0\n",
        "!pip install tensorflow_hub\n",
        "!pip install bert-for-tf2\n",
        "!pip install sentencepiece"
      ],
      "execution_count": null,
      "outputs": []
    },
    {
      "cell_type": "code",
      "metadata": {
        "id": "NV-yr9ulP_E-",
        "colab_type": "code",
        "colab": {
          "base_uri": "https://localhost:8080/",
          "height": 51
        },
        "outputId": "94ef95d9-a3e1-445e-e8bd-7110df1b5032"
      },
      "source": [
        "import tensorflow as tf\n",
        "import tensorflow_hub as hub\n",
        "print(\"TF version: \", tf.__version__)\n",
        "print(\"Hub version: \", hub.__version__)"
      ],
      "execution_count": 23,
      "outputs": [
        {
          "output_type": "stream",
          "text": [
            "TF version:  2.0.0\n",
            "Hub version:  0.9.0.dev\n"
          ],
          "name": "stdout"
        }
      ]
    },
    {
      "cell_type": "markdown",
      "metadata": {
        "id": "4svE1x7iP3af",
        "colab_type": "text"
      },
      "source": [
        "If TensorFlow Hub is not 0.7 yet on release, use dev:\n",
        "\n"
      ]
    },
    {
      "cell_type": "code",
      "metadata": {
        "id": "pUo1k6rd9iaP",
        "colab_type": "code",
        "colab": {}
      },
      "source": [
        "!pip install tf-hub-nightly"
      ],
      "execution_count": null,
      "outputs": []
    },
    {
      "cell_type": "code",
      "metadata": {
        "id": "av1oBm8m-Ajz",
        "colab_type": "code",
        "colab": {
          "base_uri": "https://localhost:8080/",
          "height": 35
        },
        "outputId": "d830f752-7a1a-4c18-96b3-bf2069b1a280"
      },
      "source": [
        "hub.__version__"
      ],
      "execution_count": 24,
      "outputs": [
        {
          "output_type": "execute_result",
          "data": {
            "application/vnd.google.colaboratory.intrinsic+json": {
              "type": "string"
            },
            "text/plain": [
              "'0.9.0.dev'"
            ]
          },
          "metadata": {
            "tags": []
          },
          "execution_count": 24
        }
      ]
    },
    {
      "cell_type": "markdown",
      "metadata": {
        "id": "cMeXU54uQUew",
        "colab_type": "text"
      },
      "source": [
        "## Import modules"
      ]
    },
    {
      "cell_type": "code",
      "metadata": {
        "id": "KBfktvAc-CNb",
        "colab_type": "code",
        "colab": {}
      },
      "source": [
        "  import tensorflow_hub as hub\n",
        "import tensorflow as tf\n",
        "import bert\n",
        "FullTokenizer = bert.bert_tokenization.FullTokenizer\n",
        "from tensorflow.keras.models import Model     # Keras is the new high level API for TensorFlow\n",
        "import math"
      ],
      "execution_count": 25,
      "outputs": []
    },
    {
      "cell_type": "markdown",
      "metadata": {
        "id": "tU2OpvYrRFNf",
        "colab_type": "text"
      },
      "source": [
        "Building model using tf.keras and hub. from sentences to embeddings.\n",
        "\n",
        "Inputs:\n",
        " - input token ids (tokenizer converts tokens using vocab file)\n",
        " - input masks (1 for useful tokens, 0 for padding)\n",
        " - segment ids (for 2 text training: 0 for the first one, 1 for the second one)\n",
        "\n",
        "Outputs:\n",
        " - pooled_output of shape `[batch_size, 768]` with representations for the entire input sequences\n",
        " - sequence_output of shape `[batch_size, max_seq_length, 768]` with representations for each input token (in context)"
      ]
    },
    {
      "cell_type": "code",
      "metadata": {
        "id": "IW6V3afD-q1K",
        "colab_type": "code",
        "colab": {}
      },
      "source": [
        "max_seq_length = 128  # Your choice here.\n",
        "input_word_ids = tf.keras.layers.Input(shape=(max_seq_length,), dtype=tf.int32,\n",
        "                                       name=\"input_word_ids\")\n",
        "input_mask = tf.keras.layers.Input(shape=(max_seq_length,), dtype=tf.int32,\n",
        "                                   name=\"input_mask\")\n",
        "segment_ids = tf.keras.layers.Input(shape=(max_seq_length,), dtype=tf.int32,\n",
        "                                    name=\"segment_ids\")\n",
        "bert_layer = hub.KerasLayer(\"https://tfhub.dev/tensorflow/bert_en_uncased_L-12_H-768_A-12/1\",\n",
        "                            trainable=True)\n",
        "pooled_output, sequence_output = bert_layer([input_word_ids, input_mask, segment_ids])"
      ],
      "execution_count": 26,
      "outputs": []
    },
    {
      "cell_type": "code",
      "metadata": {
        "id": "gmR3jHYE_y3X",
        "colab_type": "code",
        "colab": {}
      },
      "source": [
        "model = Model(inputs=[input_word_ids, input_mask, segment_ids], outputs=[pooled_output, sequence_output])"
      ],
      "execution_count": 27,
      "outputs": []
    },
    {
      "cell_type": "markdown",
      "metadata": {
        "id": "BFDpzy1-STOh",
        "colab_type": "text"
      },
      "source": [
        "Generating segments and masks based on the original BERT"
      ]
    },
    {
      "cell_type": "code",
      "metadata": {
        "id": "e4Y_r3lmFO1E",
        "colab_type": "code",
        "colab": {}
      },
      "source": [
        "# See BERT paper: https://arxiv.org/pdf/1810.04805.pdf\n",
        "# And BERT implementation convert_single_example() at https://github.com/google-research/bert/blob/master/run_classifier.py\n",
        "\n",
        "def get_masks(tokens, max_seq_length):\n",
        "    \"\"\"Mask for padding\"\"\"\n",
        "    if len(tokens)>max_seq_length:\n",
        "        raise IndexError(\"Token length more than max seq length!\")\n",
        "    return [1]*len(tokens) + [0] * (max_seq_length - len(tokens))\n",
        "\n",
        "\n",
        "def get_segments(tokens, max_seq_length):\n",
        "    \"\"\"Segments: 0 for the first sequence, 1 for the second\"\"\"\n",
        "    if len(tokens)>max_seq_length:\n",
        "        raise IndexError(\"Token length more than max seq length!\")\n",
        "    segments = []\n",
        "    current_segment_id = 0\n",
        "    for token in tokens:\n",
        "        segments.append(current_segment_id)\n",
        "        if token == \"[SEP]\":\n",
        "            current_segment_id = 1\n",
        "    return segments + [0] * (max_seq_length - len(tokens))\n",
        "\n",
        "\n",
        "def get_ids(tokens, tokenizer, max_seq_length):\n",
        "    \"\"\"Token ids from Tokenizer vocab\"\"\"\n",
        "    token_ids = tokenizer.convert_tokens_to_ids(tokens)\n",
        "    input_ids = token_ids + [0] * (max_seq_length-len(token_ids))\n",
        "    return input_ids"
      ],
      "execution_count": 10,
      "outputs": []
    },
    {
      "cell_type": "markdown",
      "metadata": {
        "id": "44u2pruZSbMX",
        "colab_type": "text"
      },
      "source": [
        "Import tokenizer using the original vocab file"
      ]
    },
    {
      "cell_type": "code",
      "metadata": {
        "id": "sm3lGfQb-1J8",
        "colab_type": "code",
        "colab": {}
      },
      "source": [
        "vocab_file = bert_layer.resolved_object.vocab_file.asset_path.numpy()\n",
        "do_lower_case = bert_layer.resolved_object.do_lower_case.numpy()\n",
        "tokenizer = FullTokenizer(vocab_file, do_lower_case)"
      ],
      "execution_count": 28,
      "outputs": []
    },
    {
      "cell_type": "markdown",
      "metadata": {
        "id": "Y5ZV6MtqSmLa",
        "colab_type": "text"
      },
      "source": [
        "## Test BERT embedding generator model"
      ]
    },
    {
      "cell_type": "code",
      "metadata": {
        "id": "jVkTaR0lCcCM",
        "colab_type": "code",
        "colab": {}
      },
      "source": [
        "s = \"This is a nice sentence.\""
      ],
      "execution_count": 29,
      "outputs": []
    },
    {
      "cell_type": "markdown",
      "metadata": {
        "id": "AihvrFWcSzd6",
        "colab_type": "text"
      },
      "source": [
        "Tokenizing the sentence"
      ]
    },
    {
      "cell_type": "code",
      "metadata": {
        "id": "X798BKV_Co71",
        "colab_type": "code",
        "colab": {
          "base_uri": "https://localhost:8080/",
          "height": 34
        },
        "outputId": "7030c71f-cf47-4bca-e07d-81d6b645cd92"
      },
      "source": [
        "stokens = tokenizer.tokenize(s)\n",
        "print(stokens)"
      ],
      "execution_count": 30,
      "outputs": [
        {
          "output_type": "stream",
          "text": [
            "['this', 'is', 'a', 'nice', 'sentence', '.']\n"
          ],
          "name": "stdout"
        }
      ]
    },
    {
      "cell_type": "markdown",
      "metadata": {
        "id": "PxroAvbjStsX",
        "colab_type": "text"
      },
      "source": [
        "Adding separator tokens according to the paper"
      ]
    },
    {
      "cell_type": "code",
      "metadata": {
        "id": "znzQLHURDAfs",
        "colab_type": "code",
        "colab": {
          "base_uri": "https://localhost:8080/",
          "height": 34
        },
        "outputId": "5614616e-5b5b-4abc-d02b-70ca2e2ce08a"
      },
      "source": [
        "stokens = [\"[CLS]\"] + stokens + [\"[SEP]\"]\n",
        "print(stokens)"
      ],
      "execution_count": 31,
      "outputs": [
        {
          "output_type": "stream",
          "text": [
            "['[CLS]', 'this', 'is', 'a', 'nice', 'sentence', '.', '[SEP]']\n"
          ],
          "name": "stdout"
        }
      ]
    },
    {
      "cell_type": "markdown",
      "metadata": {
        "id": "kRwyPuauTc2z",
        "colab_type": "text"
      },
      "source": [
        "Get the model inputs from the tokens"
      ]
    },
    {
      "cell_type": "code",
      "metadata": {
        "id": "PyyjWY75Flns",
        "colab_type": "code",
        "colab": {}
      },
      "source": [
        "input_ids = get_ids(stokens, tokenizer, max_seq_length)\n",
        "input_masks = get_masks(stokens, max_seq_length)\n",
        "input_segments = get_segments(stokens, max_seq_length)"
      ],
      "execution_count": 32,
      "outputs": []
    },
    {
      "cell_type": "code",
      "metadata": {
        "id": "FgKzlBloMX_Q",
        "colab_type": "code",
        "colab": {
          "base_uri": "https://localhost:8080/",
          "height": 105
        },
        "outputId": "8c9f1cba-8e94-4c66-a445-c58fe6a85953"
      },
      "source": [
        "print(stokens)\n",
        "print(input_ids)\n",
        "print(input_masks)\n",
        "print(input_segments)"
      ],
      "execution_count": 33,
      "outputs": [
        {
          "output_type": "stream",
          "text": [
            "['[CLS]', 'this', 'is', 'a', 'nice', 'sentence', '.', '[SEP]']\n",
            "[101, 2023, 2003, 1037, 3835, 6251, 1012, 102, 0, 0, 0, 0, 0, 0, 0, 0, 0, 0, 0, 0, 0, 0, 0, 0, 0, 0, 0, 0, 0, 0, 0, 0, 0, 0, 0, 0, 0, 0, 0, 0, 0, 0, 0, 0, 0, 0, 0, 0, 0, 0, 0, 0, 0, 0, 0, 0, 0, 0, 0, 0, 0, 0, 0, 0, 0, 0, 0, 0, 0, 0, 0, 0, 0, 0, 0, 0, 0, 0, 0, 0, 0, 0, 0, 0, 0, 0, 0, 0, 0, 0, 0, 0, 0, 0, 0, 0, 0, 0, 0, 0, 0, 0, 0, 0, 0, 0, 0, 0, 0, 0, 0, 0, 0, 0, 0, 0, 0, 0, 0, 0, 0, 0, 0, 0, 0, 0, 0, 0]\n",
            "[1, 1, 1, 1, 1, 1, 1, 1, 0, 0, 0, 0, 0, 0, 0, 0, 0, 0, 0, 0, 0, 0, 0, 0, 0, 0, 0, 0, 0, 0, 0, 0, 0, 0, 0, 0, 0, 0, 0, 0, 0, 0, 0, 0, 0, 0, 0, 0, 0, 0, 0, 0, 0, 0, 0, 0, 0, 0, 0, 0, 0, 0, 0, 0, 0, 0, 0, 0, 0, 0, 0, 0, 0, 0, 0, 0, 0, 0, 0, 0, 0, 0, 0, 0, 0, 0, 0, 0, 0, 0, 0, 0, 0, 0, 0, 0, 0, 0, 0, 0, 0, 0, 0, 0, 0, 0, 0, 0, 0, 0, 0, 0, 0, 0, 0, 0, 0, 0, 0, 0, 0, 0, 0, 0, 0, 0, 0, 0]\n",
            "[0, 0, 0, 0, 0, 0, 0, 0, 0, 0, 0, 0, 0, 0, 0, 0, 0, 0, 0, 0, 0, 0, 0, 0, 0, 0, 0, 0, 0, 0, 0, 0, 0, 0, 0, 0, 0, 0, 0, 0, 0, 0, 0, 0, 0, 0, 0, 0, 0, 0, 0, 0, 0, 0, 0, 0, 0, 0, 0, 0, 0, 0, 0, 0, 0, 0, 0, 0, 0, 0, 0, 0, 0, 0, 0, 0, 0, 0, 0, 0, 0, 0, 0, 0, 0, 0, 0, 0, 0, 0, 0, 0, 0, 0, 0, 0, 0, 0, 0, 0, 0, 0, 0, 0, 0, 0, 0, 0, 0, 0, 0, 0, 0, 0, 0, 0, 0, 0, 0, 0, 0, 0, 0, 0, 0, 0, 0, 0]\n"
          ],
          "name": "stdout"
        }
      ]
    },
    {
      "cell_type": "markdown",
      "metadata": {
        "id": "mi2mj4EUTi0X",
        "colab_type": "text"
      },
      "source": [
        "Generate Embeddings using the pretrained model"
      ]
    },
    {
      "cell_type": "code",
      "metadata": {
        "id": "Ik3xqHqXM_lN",
        "colab_type": "code",
        "colab": {
          "base_uri": "https://localhost:8080/",
          "height": 1000
        },
        "outputId": "95a46b6b-9c3a-4933-fb42-a772619fe880"
      },
      "source": [
        "pool_embs, all_embs = model.predict([[input_ids],[input_masks],[input_segments]])\n",
        "pool_embs"
      ],
      "execution_count": 34,
      "outputs": [
        {
          "output_type": "execute_result",
          "data": {
            "text/plain": [
              "array([[-0.9163579 , -0.45485607, -0.81024814,  0.79925823,  0.619719  ,\n",
              "        -0.18711786,  0.9043864 ,  0.28947753, -0.72792757, -0.9999899 ,\n",
              "        -0.268405  ,  0.90774643,  0.9724421 ,  0.36311668,  0.9508516 ,\n",
              "        -0.7077681 , -0.13973832, -0.6200389 ,  0.32889345, -0.69131607,\n",
              "         0.6335921 ,  0.99988747,  0.25068045,  0.35767666,  0.43344715,\n",
              "         0.9754197 , -0.68921685,  0.9296804 ,  0.9526176 ,  0.7145472 ,\n",
              "        -0.7304738 ,  0.15852   , -0.9847618 , -0.19254363, -0.78051686,\n",
              "        -0.9904789 ,  0.4110369 , -0.74113363, -0.02942239,  0.0404183 ,\n",
              "        -0.90632665,  0.3031848 ,  0.9999592 , -0.45350006,  0.2976172 ,\n",
              "        -0.3621706 , -0.9999998 ,  0.26866046, -0.8943399 ,  0.8616725 ,\n",
              "         0.7954327 ,  0.7802123 ,  0.1906927 ,  0.50123525,  0.46430787,\n",
              "        -0.1473691 , -0.13305682,  0.10686137, -0.2735745 , -0.6180751 ,\n",
              "        -0.64062333,  0.31597418, -0.748708  , -0.92636466,  0.75910705,\n",
              "         0.6974909 , -0.1448249 , -0.30569416, -0.14754894, -0.07065317,\n",
              "         0.9179834 ,  0.19209786, -0.258513  , -0.8324161 ,  0.54069257,\n",
              "         0.21770242, -0.69144905,  1.        , -0.5283228 , -0.97148013,\n",
              "         0.7599984 ,  0.64711803,  0.6471032 , -0.1797285 ,  0.34396684,\n",
              "        -1.        ,  0.6481878 , -0.05250568, -0.98655987,  0.17324005,\n",
              "         0.6169613 , -0.27509108,  0.54217666,  0.67118996, -0.5042468 ,\n",
              "        -0.39934617, -0.3603716 , -0.6973469 , -0.20750421, -0.27628213,\n",
              "         0.12292346, -0.29028323, -0.2965217 , -0.3989923 ,  0.3445605 ,\n",
              "        -0.5444175 , -0.54113925,  0.5272073 ,  0.15753312,  0.7157642 ,\n",
              "         0.48472747, -0.37260613,  0.4240929 , -0.958696  ,  0.63779205,\n",
              "        -0.34779552, -0.98397183, -0.66838074, -0.982944  ,  0.7032299 ,\n",
              "        -0.08665176, -0.21763487,  0.969009  , -0.21098003,  0.35040694,\n",
              "        -0.10074726, -0.85098183, -1.        , -0.6456133 , -0.4445876 ,\n",
              "        -0.20101298, -0.2594485 , -0.9713679 , -0.9506112 ,  0.6376122 ,\n",
              "         0.9668377 ,  0.2418078 ,  0.9998391 , -0.3014875 ,  0.93095034,\n",
              "        -0.31659475, -0.46695235,  0.47373575, -0.4839086 ,  0.7044504 ,\n",
              "         0.35626256, -0.6012439 ,  0.18752585, -0.22554204,  0.40026906,\n",
              "        -0.57480496, -0.26041275, -0.714909  , -0.92985594, -0.42252538,\n",
              "         0.94629455, -0.35795155, -0.8535356 ,  0.20605412, -0.2162731 ,\n",
              "        -0.34231368,  0.8442201 ,  0.6454531 ,  0.42151272, -0.3044193 ,\n",
              "         0.4672083 ,  0.3033668 ,  0.54925543, -0.86927056, -0.03662523,\n",
              "         0.4211415 , -0.34227872, -0.7425482 , -0.970426  , -0.34861806,\n",
              "         0.5367647 ,  0.98509794,  0.76734364,  0.3195078 ,  0.8197424 ,\n",
              "        -0.36721057,  0.7448771 , -0.93211377,  0.9801371 , -0.19818039,\n",
              "         0.32702404, -0.51203525,  0.43040195, -0.90020895,  0.07552147,\n",
              "         0.8521784 , -0.6448356 , -0.86398983, -0.05338387, -0.50302845,\n",
              "        -0.39646283, -0.7175882 ,  0.54022056, -0.35448742, -0.41755155,\n",
              "        -0.20385042,  0.9319716 ,  0.9794973 ,  0.8122649 , -0.01456346,\n",
              "         0.57040226, -0.91159725, -0.5180063 ,  0.12517877,  0.20043007,\n",
              "         0.09835111,  0.9927253 , -0.56574935, -0.18171331, -0.95004416,\n",
              "        -0.982214  , -0.04026175, -0.8994564 , -0.12104039, -0.68873763,\n",
              "         0.59649307, -0.31418908,  0.5018981 ,  0.44359028, -0.9883749 ,\n",
              "        -0.8427745 ,  0.3582059 , -0.34699756,  0.43354872, -0.29260737,\n",
              "         0.85741925,  0.8896757 , -0.6212043 ,  0.7171984 ,  0.9039765 ,\n",
              "        -0.7515463 , -0.75796753,  0.8319363 , -0.29243553,  0.92091316,\n",
              "        -0.6613257 ,  0.9917399 ,  0.8338694 ,  0.75352275, -0.909985  ,\n",
              "        -0.5613543 , -0.92695355, -0.6333558 , -0.21684217, -0.10184933,\n",
              "         0.7983994 ,  0.7208212 ,  0.40591693,  0.45690662, -0.60383993,\n",
              "         0.9982573 , -0.8973794 , -0.94205266, -0.30355558, -0.17569275,\n",
              "        -0.98605454,  0.8203883 ,  0.25958964,  0.16058633, -0.5038514 ,\n",
              "        -0.6343098 , -0.95263046,  0.88149756,  0.11178932,  0.9883258 ,\n",
              "        -0.38840798, -0.91760045, -0.67308056, -0.893843  , -0.19696252,\n",
              "        -0.26464456, -0.17684104, -0.21569584, -0.9533866 ,  0.5183809 ,\n",
              "         0.5906381 ,  0.51739347, -0.6841588 ,  0.9986447 ,  0.9999995 ,\n",
              "         0.97258097,  0.8706623 ,  0.93688536, -0.9991735 , -0.6587196 ,\n",
              "         0.99999636, -0.98016554, -1.        , -0.9329023 , -0.70228875,\n",
              "         0.4146851 , -1.        , -0.20519055,  0.0226547 , -0.88910663,\n",
              "         0.5084414 ,  0.9715788 ,  0.99486256, -1.        ,  0.8534827 ,\n",
              "         0.95021194, -0.71645844,  0.9007613 , -0.39649415,  0.9669801 ,\n",
              "         0.60525376,  0.5499631 , -0.2195081 ,  0.3354037 , -0.86927956,\n",
              "        -0.83379525, -0.44148737, -0.5439423 ,  0.9953946 ,  0.14543106,\n",
              "        -0.7633421 , -0.91452223,  0.5095967 , -0.05466129, -0.16339247,\n",
              "        -0.95801073, -0.20003867,  0.40283498,  0.8043234 ,  0.16386066,\n",
              "         0.31211403, -0.7828034 ,  0.24667361, -0.11056796,  0.40230682,\n",
              "         0.7006911 , -0.9432845 , -0.6159017 , -0.04132139, -0.2864585 ,\n",
              "        -0.50306076, -0.9540281 ,  0.9642914 , -0.46303207,  0.77806324,\n",
              "         1.        ,  0.21121705, -0.8906615 ,  0.5439217 ,  0.23873521,\n",
              "        -0.614082  ,  1.        ,  0.7675309 , -0.97473264, -0.66215247,\n",
              "         0.60171163, -0.5682636 , -0.6162956 ,  0.99933106, -0.33660924,\n",
              "        -0.5333264 , -0.26340964,  0.9579749 , -0.98489714,  0.9866077 ,\n",
              "        -0.928574  , -0.96382767,  0.9640542 ,  0.9326328 , -0.44704306,\n",
              "        -0.7154434 ,  0.13124667, -0.6778207 ,  0.30819812, -0.97003037,\n",
              "         0.7503863 ,  0.4555917 , -0.10686208,  0.90436107, -0.8581419 ,\n",
              "        -0.6887783 ,  0.4088587 , -0.48796353,  0.04401348,  0.9024253 ,\n",
              "         0.510618  , -0.30655336,  0.08830798, -0.32640505, -0.660849  ,\n",
              "        -0.9719387 ,  0.4825376 ,  1.        , -0.21273784,  0.58337444,\n",
              "        -0.47117525, -0.10234667, -0.10890007,  0.54135424,  0.58115435,\n",
              "        -0.34724495, -0.88561124,  0.7378333 , -0.96402985, -0.97988755,\n",
              "         0.78742146,  0.23993124, -0.3312494 ,  0.99999154,  0.45510763,\n",
              "         0.14345291,  0.37027258,  0.9542769 , -0.00285103,  0.5974157 ,\n",
              "         0.7232371 ,  0.9733072 , -0.2698775 ,  0.65802264,  0.89018935,\n",
              "        -0.8078307 , -0.2774984 , -0.7351634 , -0.02635287, -0.9044224 ,\n",
              "         0.06340572, -0.95799303,  0.9600353 ,  0.7889661 ,  0.40547425,\n",
              "         0.21960568,  0.5721368 ,  1.        , -0.41140315,  0.62265635,\n",
              "        -0.19522937,  0.8528288 , -0.99932545, -0.8651435 , -0.43543166,\n",
              "         0.02097496, -0.67600155, -0.38653558,  0.26049566, -0.9594286 ,\n",
              "         0.6952838 ,  0.5367595 , -0.9890046 , -0.98541236, -0.12977973,\n",
              "         0.79839146,  0.04041854, -0.96005887, -0.71181256, -0.61883605,\n",
              "         0.6583984 , -0.34240022, -0.93047786,  0.06132504, -0.30489638,\n",
              "         0.49096805, -0.26037243,  0.6355507 ,  0.77750325,  0.7102119 ,\n",
              "        -0.713088  , -0.15307556, -0.050225  , -0.7777629 ,  0.8339267 ,\n",
              "        -0.84951943, -0.8657404 , -0.16893747,  1.        , -0.58479935,\n",
              "         0.8523264 ,  0.7483792 ,  0.7581237 , -0.19931269,  0.17641897,\n",
              "         0.8660015 ,  0.26353642, -0.655659  , -0.7199486 , -0.55434614,\n",
              "        -0.38445842,  0.6653662 ,  0.37433058,  0.6334554 ,  0.8352073 ,\n",
              "         0.77393067,  0.04789643, -0.04106718,  0.0491753 ,  0.99970484,\n",
              "        -0.13540825, -0.36515406, -0.64811575, -0.06278686, -0.33806807,\n",
              "        -0.11588885,  1.        ,  0.3479413 ,  0.16693541, -0.98629344,\n",
              "        -0.77583057, -0.9185483 ,  0.99999803,  0.78227943, -0.8709068 ,\n",
              "         0.6910849 ,  0.52251565, -0.10297425,  0.79976034, -0.20660278,\n",
              "        -0.23718485,  0.17524512,  0.10945208,  0.9484241 , -0.5779568 ,\n",
              "        -0.9526028 , -0.5685644 ,  0.5001826 , -0.9637538 ,  0.9996049 ,\n",
              "        -0.61292666, -0.24443024, -0.39734283, -0.2609653 ,  0.43819547,\n",
              "        -0.08717003, -0.9783771 , -0.24817179,  0.13773535,  0.9602576 ,\n",
              "         0.24836335, -0.6505981 , -0.89388543,  0.6620077 ,  0.6544269 ,\n",
              "        -0.82004505, -0.9219913 ,  0.9503772 , -0.9813021 ,  0.65011054,\n",
              "         1.        ,  0.3781543 , -0.21341187,  0.28028446, -0.5298641 ,\n",
              "         0.36496764, -0.00884182,  0.68252814, -0.9618935 , -0.39122897,\n",
              "        -0.17856012,  0.30923757, -0.16844937, -0.28547212,  0.6157852 ,\n",
              "         0.13370354, -0.59791964, -0.66337967, -0.1733092 ,  0.4466094 ,\n",
              "         0.810613  , -0.21884549, -0.17410591,  0.10840042, -0.1883414 ,\n",
              "        -0.9029475 , -0.31637427, -0.5072672 , -0.99995595,  0.7031505 ,\n",
              "        -1.        ,  0.43820664,  0.04837947, -0.21881135,  0.83675563,\n",
              "         0.68226445,  0.64998645, -0.7367103 , -0.69791716,  0.57103527,\n",
              "         0.78167135, -0.34456652, -0.26313388, -0.728848  ,  0.35103846,\n",
              "        -0.06052373,  0.29299638, -0.5412067 ,  0.7569701 , -0.29871306,\n",
              "         1.        ,  0.11931484, -0.67725503, -0.9814367 ,  0.22898059,\n",
              "        -0.25175452,  1.        , -0.9340364 , -0.93825066,  0.3786019 ,\n",
              "        -0.70552427, -0.7956478 ,  0.37500554,  0.01291004, -0.76909924,\n",
              "        -0.9040813 ,  0.96281266,  0.8690415 , -0.6505253 ,  0.5391086 ,\n",
              "        -0.2722205 , -0.5800057 ,  0.014732  ,  0.7281599 ,  0.98217636,\n",
              "         0.57318395,  0.9080346 , -0.14822759, -0.32396704,  0.96684194,\n",
              "         0.2028658 ,  0.5579031 ,  0.07921408,  1.        ,  0.28626463,\n",
              "        -0.92611784,  0.30152372, -0.98784035, -0.19391447, -0.9621189 ,\n",
              "         0.3593061 ,  0.24267097,  0.90072185, -0.26737908,  0.9451904 ,\n",
              "        -0.6576462 ,  0.05278419, -0.42890072, -0.23596114,  0.3820285 ,\n",
              "        -0.92072314, -0.9823648 , -0.97511816,  0.56418526, -0.46593842,\n",
              "        -0.08257806,  0.25800672,  0.09726411,  0.43362352,  0.425299  ,\n",
              "        -1.        ,  0.9273045 ,  0.46179777,  0.83401006,  0.9484481 ,\n",
              "         0.6618186 ,  0.5358525 ,  0.30442086, -0.9792745 , -0.98676413,\n",
              "        -0.35526168, -0.35324025,  0.74647874,  0.6587599 ,  0.8791913 ,\n",
              "         0.4372845 , -0.50279963, -0.56532615, -0.5438604 , -0.8336581 ,\n",
              "        -0.99049526,  0.37971818, -0.5352469 , -0.9653166 ,  0.95232844,\n",
              "        -0.21968392, -0.15481646,  0.05548361, -0.7166391 ,  0.9197261 ,\n",
              "         0.8269633 ,  0.3444205 ,  0.07025108,  0.51417124,  0.872574  ,\n",
              "         0.95769787,  0.9773848 , -0.68409806,  0.80363476, -0.5767234 ,\n",
              "         0.48540992,  0.63121235, -0.92105836,  0.19521263,  0.39630145,\n",
              "        -0.33192182,  0.23013858, -0.2179187 , -0.97231346,  0.4596778 ,\n",
              "        -0.23588388,  0.51535726, -0.41546965,  0.09614291, -0.43516836,\n",
              "        -0.22591357, -0.7859282 , -0.6538221 ,  0.71852434,  0.35999936,\n",
              "         0.884066  ,  0.80593115, -0.12598485, -0.7109006 , -0.23329645,\n",
              "        -0.7154344 , -0.91603696,  0.94578516,  0.02828898, -0.28368726,\n",
              "         0.45426473, -0.01084937,  0.8598654 ,  0.02321199, -0.4272016 ,\n",
              "        -0.3365736 , -0.7571953 ,  0.9104872 , -0.57091534, -0.5409613 ,\n",
              "        -0.47723225,  0.6754634 ,  0.29544067,  0.99989486, -0.6661504 ,\n",
              "        -0.8364335 , -0.41114336, -0.43533263,  0.39691734, -0.40611207,\n",
              "        -1.        ,  0.43103486, -0.52477634,  0.5608738 , -0.5305522 ,\n",
              "         0.6645032 , -0.54573745, -0.9805485 , -0.18382229,  0.53749806,\n",
              "         0.6304753 , -0.5325799 , -0.5850786 ,  0.6646075 , -0.139275  ,\n",
              "         0.9456356 ,  0.9000326 , -0.25364327,  0.24325542,  0.70579356,\n",
              "        -0.6974944 , -0.7114001 ,  0.91898066]], dtype=float32)"
            ]
          },
          "metadata": {
            "tags": []
          },
          "execution_count": 34
        }
      ]
    },
    {
      "cell_type": "markdown",
      "metadata": {
        "id": "0wh7l5ybTqbh",
        "colab_type": "text"
      },
      "source": [
        "## Pooled embedding vs [CLS] as sentence-level representation\n",
        "\n",
        "Previously, the [CLS] token's embedding were used as sentence-level representation (see the original paper). However, here a pooled embedding were introduced. This part is a short comparison of the two embedding using cosine similarity"
      ]
    },
    {
      "cell_type": "code",
      "metadata": {
        "id": "Y5hNr1u4Nhkt",
        "colab_type": "code",
        "colab": {}
      },
      "source": [
        "def square_rooted(x):\n",
        "    return math.sqrt(sum([a*a for a in x]))\n",
        "\n",
        "\n",
        "def cosine_similarity(x,y):\n",
        "    numerator = sum(a*b for a,b in zip(x,y))\n",
        "    denominator = square_rooted(x)*square_rooted(y)\n",
        "    return numerator/float(denominator)"
      ],
      "execution_count": null,
      "outputs": []
    },
    {
      "cell_type": "code",
      "metadata": {
        "id": "y7ZrIs93Oc0h",
        "colab_type": "code",
        "colab": {
          "base_uri": "https://localhost:8080/",
          "height": 34
        },
        "outputId": "cb71838f-8b63-4e1b-acdd-819282e4c9e7"
      },
      "source": [
        "cosine_similarity(pool_embs[0], all_embs[0][0])"
      ],
      "execution_count": null,
      "outputs": [
        {
          "output_type": "execute_result",
          "data": {
            "text/plain": [
              "0.027572674188593015"
            ]
          },
          "metadata": {
            "tags": []
          },
          "execution_count": 28
        }
      ]
    },
    {
      "cell_type": "code",
      "metadata": {
        "id": "9JKOs0VqzYvV",
        "colab_type": "code",
        "colab": {}
      },
      "source": [
        ""
      ],
      "execution_count": null,
      "outputs": []
    }
  ]
}