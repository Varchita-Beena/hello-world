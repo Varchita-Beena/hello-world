{
  "nbformat": 4,
  "nbformat_minor": 0,
  "metadata": {
    "colab": {
      "name": "Untitled1.ipynb",
      "provenance": [],
      "collapsed_sections": [],
      "machine_shape": "hm",
      "authorship_tag": "ABX9TyMLMN609z9pML57JwzOor+a",
      "include_colab_link": true
    },
    "kernelspec": {
      "name": "python3",
      "display_name": "Python 3"
    },
    "accelerator": "TPU"
  },
  "cells": [
    {
      "cell_type": "markdown",
      "metadata": {
        "id": "view-in-github",
        "colab_type": "text"
      },
      "source": [
        "<a href=\"https://colab.research.google.com/github/Varchita-Lalwani/hello-world/blob/master/simple_text_classification.ipynb\" target=\"_parent\"><img src=\"https://colab.research.google.com/assets/colab-badge.svg\" alt=\"Open In Colab\"/></a>"
      ]
    },
    {
      "cell_type": "code",
      "metadata": {
        "id": "bKdsGBUNfPD-",
        "colab_type": "code",
        "colab": {
          "base_uri": "https://localhost:8080/",
          "height": 34
        },
        "outputId": "58db003c-a978-4e52-8841-a881a31c05cf"
      },
      "source": [
        "import os\n",
        "if 'COLAB_TPU_ADDR' not in os.environ: \n",
        "  print('Not connected to TPU') \n",
        "else: \n",
        "  print(\"Connected to TPU\")"
      ],
      "execution_count": 6,
      "outputs": [
        {
          "output_type": "stream",
          "text": [
            "Connected to TPU\n"
          ],
          "name": "stdout"
        }
      ]
    },
    {
      "cell_type": "code",
      "metadata": {
        "id": "_E7qwkHhgsc9",
        "colab_type": "code",
        "colab": {
          "base_uri": "https://localhost:8080/",
          "height": 34
        },
        "outputId": "f712aaf8-851a-4612-bf71-e6c9fa4c9c72"
      },
      "source": [
        "import tensorflow as tf\n",
        "import pandas as pd\n",
        "train_file = pd.read_csv(\"all.csv\")\n",
        "#train_data = train_file.iloc[0:100,1:2]\n",
        "#train_labels = train_file.iloc[0:100,4:5]\n",
        "train_data = train_file.iloc[:,1:2]\n",
        "train_labels = train_file.iloc[:,4:5]\n",
        "print(train_labels.shape)\n",
        "\n",
        "\n",
        "\n"
      ],
      "execution_count": 7,
      "outputs": [
        {
          "output_type": "stream",
          "text": [
            "(573, 1)\n"
          ],
          "name": "stdout"
        }
      ]
    },
    {
      "cell_type": "code",
      "metadata": {
        "id": "rXwu0qsnlNoM",
        "colab_type": "code",
        "colab": {
          "base_uri": "https://localhost:8080/",
          "height": 34
        },
        "outputId": "b5dbafb0-18bf-419c-a136-2a54d77f9d01"
      },
      "source": [
        "import numpy as np\n",
        "from sklearn.model_selection import train_test_split\n",
        "X_train, X_test, Y_train, Y_test = train_test_split(train_data, train_labels, test_size=0.1, random_state = 42)\n",
        "dfDummies = pd.get_dummies(Y_train, prefix = 'category')\n",
        "labels = np.array(dfDummies)\n",
        "labels.shape"
      ],
      "execution_count": 8,
      "outputs": [
        {
          "output_type": "execute_result",
          "data": {
            "text/plain": [
              "(515, 3)"
            ]
          },
          "metadata": {
            "tags": []
          },
          "execution_count": 8
        }
      ]
    },
    {
      "cell_type": "code",
      "metadata": {
        "id": "DlKH70MDosC5",
        "colab_type": "code",
        "colab": {
          "base_uri": "https://localhost:8080/",
          "height": 68
        },
        "outputId": "8ce10546-f6d5-4475-c8bd-29e08cd32fff"
      },
      "source": [
        "import re\n",
        "import nltk\n",
        "nltk.download('punkt')\n",
        "length = []\n",
        "tokenized_sent = []\n",
        "for each in range(len(X_train)):\n",
        "  item = X_train.iloc[each,:]\n",
        "  item = item.values.tolist()\n",
        "  temp = str(item)\n",
        "  temp_1 = (re.sub('[^A-Za-z0-9]+', ' ', temp))\n",
        "  tokens = nltk.word_tokenize(temp_1)\n",
        "  length.append(len(tokens))\n",
        "  tokenized_sent.append(tokens)\n",
        "max_length = max(length)\n",
        "print(max_length)"
      ],
      "execution_count": 9,
      "outputs": [
        {
          "output_type": "stream",
          "text": [
            "[nltk_data] Downloading package punkt to /root/nltk_data...\n",
            "[nltk_data]   Package punkt is already up-to-date!\n",
            "5067\n"
          ],
          "name": "stdout"
        }
      ]
    },
    {
      "cell_type": "code",
      "metadata": {
        "id": "gi33Jq3PyDjr",
        "colab_type": "code",
        "colab": {}
      },
      "source": [
        "from gensim.models import Word2Vec\n",
        "vectors = []\n",
        "model = Word2Vec(tokenized_sent, min_count=1, size=300)\n",
        "for each in tokenized_sent:\n",
        "  sent_vect = []\n",
        "  for every in each:\n",
        "    sent_vect.append(model.wv[every])\n",
        "  vectors.append(sent_vect)\n",
        "\n"
      ],
      "execution_count": 0,
      "outputs": []
    },
    {
      "cell_type": "code",
      "metadata": {
        "id": "T3EAAPGp0gEU",
        "colab_type": "code",
        "colab": {
          "base_uri": "https://localhost:8080/",
          "height": 51
        },
        "outputId": "34dd92a0-ac67-4a20-d030-9a7f5a5937b4"
      },
      "source": [
        "from keras.preprocessing import sequence\n",
        "padded_train_vectors = sequence.pad_sequences(vectors, maxlen=max_length,dtype='float')\n",
        "padded_train_vectors.shape\n"
      ],
      "execution_count": 11,
      "outputs": [
        {
          "output_type": "stream",
          "text": [
            "Using TensorFlow backend.\n"
          ],
          "name": "stderr"
        },
        {
          "output_type": "execute_result",
          "data": {
            "text/plain": [
              "(515, 5067, 300)"
            ]
          },
          "metadata": {
            "tags": []
          },
          "execution_count": 11
        }
      ]
    },
    {
      "cell_type": "code",
      "metadata": {
        "id": "iTC07A821rY9",
        "colab_type": "code",
        "colab": {
          "base_uri": "https://localhost:8080/",
          "height": 255
        },
        "outputId": "3afd4571-0a41-4967-9cb3-0697d8d0f7f6"
      },
      "source": [
        "import tensorflow as tf\n",
        "from tensorflow.python.keras.layers import Input, Dense\n",
        "from tensorflow.python.keras.models import Sequential\n",
        "from tensorflow.python.keras.layers.recurrent import SimpleRNN\n",
        "#from keras import backend as K\n",
        "model = Sequential()\n",
        "model.add(SimpleRNN(300, input_shape = (5067,300)))\n",
        "model.add(Dense(labels.shape[1], activation = 'softmax'))\n",
        "model.compile(loss = 'categorical_crossentropy', optimizer = 'adam', metrics = ['accuracy'])\n",
        "print(model.summary())\n",
        "model.fit(padded_train_vectors, labels, epochs=10, steps_per_epoch=2)\n",
        "y = model.predict(padded_train_vectors)\n"
      ],
      "execution_count": 0,
      "outputs": [
        {
          "output_type": "stream",
          "text": [
            "Model: \"sequential\"\n",
            "_________________________________________________________________\n",
            "Layer (type)                 Output Shape              Param #   \n",
            "=================================================================\n",
            "simple_rnn (SimpleRNN)       (None, 300)               180300    \n",
            "_________________________________________________________________\n",
            "dense (Dense)                (None, 3)                 903       \n",
            "=================================================================\n",
            "Total params: 181,203\n",
            "Trainable params: 181,203\n",
            "Non-trainable params: 0\n",
            "_________________________________________________________________\n",
            "None\n",
            "Epoch 1/10\n"
          ],
          "name": "stdout"
        }
      ]
    },
    {
      "cell_type": "markdown",
      "metadata": {
        "id": "3r4Ro8HmjP5a",
        "colab_type": "text"
      },
      "source": [
        "# New Section"
      ]
    }
  ]
}